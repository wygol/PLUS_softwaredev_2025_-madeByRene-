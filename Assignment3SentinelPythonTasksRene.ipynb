{
 "cells": [
  {
   "cell_type": "code",
   "execution_count": 5,
   "id": "e796dd04",
   "metadata": {},
   "outputs": [],
   "source": [
    "# import necessary libraries\n",
    "import numpy as np\n",
    "import rasterio as rio\n",
    "import folium as fl\n",
    "# task: read a raster file (Data: Sentinel-2) and perform an index calculation\n",
    "# the calculated index wil be the cholorphyl vegetation index (CVI) \n",
    "# the instructions to this index can be found at https://www.indexdatabase.de/db/i-single.php?id=391\n",
    "\n",
    "# for this script, the necessary data are stored locally on the machine\n"
   ]
  },
  {
   "cell_type": "code",
   "execution_count": null,
   "id": "960c10b8",
   "metadata": {},
   "outputs": [
    {
     "ename": "SyntaxError",
     "evalue": "invalid syntax (3904892754.py, line 4)",
     "output_type": "error",
     "traceback": [
      "\u001b[1;36m  Cell \u001b[1;32mIn[4], line 4\u001b[1;36m\u001b[0m\n\u001b[1;33m    dataset1 = # todo\u001b[0m\n\u001b[1;37m               ^\u001b[0m\n\u001b[1;31mSyntaxError\u001b[0m\u001b[1;31m:\u001b[0m invalid syntax\n"
     ]
    }
   ],
   "source": [
    "# data can be found at https://browser.dataspace.copernicus.eu/?zoom=9&lat=38.44897&lng=66.93311&themeId=DEFAULT-THEME&visualizationUrl=U2FsdGVkX18wEuUwqWryjONcimFkAuyOmkGwRNrXfvUXR44a7bE2gtbe1tXdmx8Y0z6q3i3NJvwG25o83YxierXMsqk7hG68Np%2BCp5LACOYARUPfOPjU9hOgdE7bxLct&datasetId=S2_L2A_CDAS&fromTime=2025-06-02T00%3A00%3A00.000Z&toTime=2025-06-02T23%3A59%3A59.999Z&layerId=1_TRUE_COLOR\n",
    "\n",
    "with rio.open(\"\") as dataset1, rio.open(\"\") as dataset2:\n",
    "    dataset1 = # todo\n",
    "    dataset2 = # todo\n",
    "    \n",
    "    # load data, extract bands, compare maps in leaflet or something similar. \n",
    "    \n",
    "    \n",
    "    \n",
    "    "
   ]
  },
  {
   "cell_type": "code",
   "execution_count": null,
   "id": "97b3786f",
   "metadata": {},
   "outputs": [],
   "source": []
  },
  {
   "cell_type": "code",
   "execution_count": null,
   "id": "6497afb3",
   "metadata": {},
   "outputs": [],
   "source": []
  },
  {
   "cell_type": "code",
   "execution_count": null,
   "id": "49b60ca0",
   "metadata": {},
   "outputs": [],
   "source": []
  }
 ],
 "metadata": {
  "kernelspec": {
   "display_name": "Python 3",
   "language": "python",
   "name": "python3"
  },
  "language_info": {
   "codemirror_mode": {
    "name": "ipython",
    "version": 3
   },
   "file_extension": ".py",
   "mimetype": "text/x-python",
   "name": "python",
   "nbconvert_exporter": "python",
   "pygments_lexer": "ipython3",
   "version": "3.11.9"
  }
 },
 "nbformat": 4,
 "nbformat_minor": 5
}
