{
 "cells": [
  {
   "cell_type": "code",
   "execution_count": 19,
   "id": "e796dd04",
   "metadata": {},
   "outputs": [],
   "source": [
    "# import necessary libraries\n",
    "import numpy as np\n",
    "import rasterio as rio\n",
    "from rasterio.plot import show\n",
    "import folium as fl\n",
    "import matplotlib.pyplot as plt\n",
    "# task: read a raster file (Data: Sentinel-2) and perform an index calculation\n",
    "# the calculated index wil be the cholorphyl vegetation index (CVI) \n",
    "# the instructions to this index can be found at https://www.indexdatabase.de/db/i-single.php?id=391\n",
    "\n",
    "# for this script, the necessary data are stored locally on the machine\n"
   ]
  },
  {
   "cell_type": "markdown",
   "id": "3ac62008",
   "metadata": {},
   "source": []
  },
  {
   "cell_type": "code",
   "execution_count": 39,
   "id": "960c10b8",
   "metadata": {},
   "outputs": [
    {
     "name": "stdout",
     "output_type": "stream",
     "text": [
      "[[3450 3526 3530 ... 4556 4432 4408]\n",
      " [3502 3522 3494 ... 4616 4532 4500]\n",
      " [3488 3518 3510 ... 4644 4604 4596]\n",
      " ...\n",
      " [4836 4852 5060 ... 3770 3864 3810]\n",
      " [4924 4736 4980 ... 3610 3786 3764]\n",
      " [4748 4812 5012 ... 3440 3510 3564]]\n",
      "[[2588 2564 2604 ... 4030 3978 3912]\n",
      " [2542 2504 2560 ... 4140 4056 4022]\n",
      " [2556 2466 2498 ... 4136 4090 4074]\n",
      " ...\n",
      " [2704 2806 3850 ... 3388 3474 3472]\n",
      " [3248 2772 3532 ... 3230 3320 3374]\n",
      " [3578 2792 3104 ... 3092 3120 3216]]\n",
      "class:  ndarray\n",
      "shape:  (10980, 10980)\n",
      "strides:  (21960, 2)\n",
      "itemsize:  2\n",
      "aligned:  True\n",
      "contiguous:  True\n",
      "fortran:  False\n",
      "data pointer: 0x17f01726040\n",
      "byteorder:  little\n",
      "byteswap:  False\n",
      "type: uint16\n",
      "None\n",
      "class:  ndarray\n",
      "shape:  (10980, 10980)\n",
      "strides:  (21960, 2)\n",
      "itemsize:  2\n",
      "aligned:  True\n",
      "contiguous:  True\n",
      "fortran:  False\n",
      "data pointer: 0x17f912ee040\n",
      "byteorder:  little\n",
      "byteswap:  False\n",
      "type: uint16\n",
      "None\n",
      "class:  ndarray\n",
      "shape:  (10980, 10980)\n",
      "strides:  (87840, 8)\n",
      "itemsize:  8\n",
      "aligned:  True\n",
      "contiguous:  True\n",
      "fortran:  False\n",
      "data pointer: 0x17fadf09040\n",
      "byteorder:  little\n",
      "byteswap:  False\n",
      "type: float64\n",
      "None\n"
     ]
    }
   ],
   "source": [
    "# data can be found at https://browser.dataspace.copernicus.eu/?zoom=9&lat=38.44897&lng=66.93311&themeId=DEFAULT-THEME&visualizationUrl=U2FsdGVkX18wEuUwqWryjONcimFkAuyOmkGwRNrXfvUXR44a7bE2gtbe1tXdmx8Y0z6q3i3NJvwG25o83YxierXMsqk7hG68Np%2BCp5LACOYARUPfOPjU9hOgdE7bxLct&datasetId=S2_L2A_CDAS&fromTime=2025-06-02T00%3A00%3A00.000Z&toTime=2025-06-02T23%3A59%3A59.999Z&layerId=1_TRUE_COLOR\n",
    "# or in this repo in the data folder\n",
    "\n",
    "with rio.Env():\n",
    "    with rio.open(\"data/B04.tif\") as red, rio.open(\"data/B08.tif\") as nir:\n",
    "        r1 = red.read(1)\n",
    "        nir1 = nir.read(1)\n",
    "        \n",
    "        ndvi = ((nir1 - r1) / (nir1 + r1))\n",
    "        print(nir1)\n",
    "        print(r1)\n",
    "        print(np.info(r1))\n",
    "        print(np.info(nir1))\n",
    "        print(np.info(ndvi))\n",
    "        \n",
    "    #     # write to a new file\n",
    "    #     with rio.open(\"data/ndvi.tif\", \"w\", driver=\"GTiff\", width=r1.shape[1], height=r1.shape[0], count=1, dtype=r1.dtype, crs=red.crs, transform=red.transform) as dst:\n",
    "    #         dst.write(ndvi, 1)\n",
    "            \n",
    "    #     # read the new file and display it\n",
    "    #     with rio.open(\"data/ndvi.tif\") as dst:\n",
    "    #         r2 = dst.read(1)\n",
    "    \n",
    "    # # load data, extract bands, compare maps in leaflet or something similar. \n",
    "    \n",
    "    \n",
    "    \n",
    "    \n",
    "    "
   ]
  },
  {
   "cell_type": "code",
   "execution_count": 3,
   "id": "bb16f720",
   "metadata": {},
   "outputs": [
    {
     "ename": "RasterioIOError",
     "evalue": "'/data/T42SUG_20240727T061631_B04_10m.jp2' does not exist in the file system, and is not recognized as a supported dataset name.",
     "output_type": "error",
     "traceback": [
      "\u001b[1;31m---------------------------------------------------------------------------\u001b[0m",
      "\u001b[1;31mCPLE_OpenFailedError\u001b[0m                      Traceback (most recent call last)",
      "File \u001b[1;32mrasterio\\\\_base.pyx:310\u001b[0m, in \u001b[0;36mrasterio._base.DatasetBase.__init__\u001b[1;34m()\u001b[0m\n",
      "File \u001b[1;32mrasterio\\\\_base.pyx:221\u001b[0m, in \u001b[0;36mrasterio._base.open_dataset\u001b[1;34m()\u001b[0m\n",
      "File \u001b[1;32mrasterio\\\\_err.pyx:359\u001b[0m, in \u001b[0;36mrasterio._err.exc_wrap_pointer\u001b[1;34m()\u001b[0m\n",
      "\u001b[1;31mCPLE_OpenFailedError\u001b[0m: '/data/T42SUG_20240727T061631_B04_10m.jp2' does not exist in the file system, and is not recognized as a supported dataset name.",
      "\nDuring handling of the above exception, another exception occurred:\n",
      "\u001b[1;31mRasterioIOError\u001b[0m                           Traceback (most recent call last)",
      "Cell \u001b[1;32mIn[3], line 2\u001b[0m\n\u001b[0;32m      1\u001b[0m \u001b[38;5;28;01mwith\u001b[39;00m rio\u001b[38;5;241m.\u001b[39mEnv():\n\u001b[1;32m----> 2\u001b[0m     \u001b[38;5;28;01mwith\u001b[39;00m \u001b[43mrio\u001b[49m\u001b[38;5;241;43m.\u001b[39;49m\u001b[43mopen\u001b[49m\u001b[43m(\u001b[49m\u001b[38;5;124;43mr\u001b[39;49m\u001b[38;5;124;43m\"\u001b[39;49m\u001b[38;5;124;43m/data/T42SUG_20240727T061631_B04_10m.jp2\u001b[39;49m\u001b[38;5;124;43m\"\u001b[39;49m\u001b[43m)\u001b[49m \u001b[38;5;28;01mas\u001b[39;00m red:\n\u001b[0;32m      3\u001b[0m         \u001b[38;5;28mprint\u001b[39m(red)\n",
      "File \u001b[1;32mc:\\Users\\renes\\.conda\\envs\\requirements\\Lib\\site-packages\\rasterio\\env.py:463\u001b[0m, in \u001b[0;36mensure_env_with_credentials.<locals>.wrapper\u001b[1;34m(*args, **kwds)\u001b[0m\n\u001b[0;32m    460\u001b[0m     session \u001b[38;5;241m=\u001b[39m DummySession()\n\u001b[0;32m    462\u001b[0m \u001b[38;5;28;01mwith\u001b[39;00m env_ctor(session\u001b[38;5;241m=\u001b[39msession):\n\u001b[1;32m--> 463\u001b[0m     \u001b[38;5;28;01mreturn\u001b[39;00m \u001b[43mf\u001b[49m\u001b[43m(\u001b[49m\u001b[38;5;241;43m*\u001b[39;49m\u001b[43margs\u001b[49m\u001b[43m,\u001b[49m\u001b[43m \u001b[49m\u001b[38;5;241;43m*\u001b[39;49m\u001b[38;5;241;43m*\u001b[39;49m\u001b[43mkwds\u001b[49m\u001b[43m)\u001b[49m\n",
      "File \u001b[1;32mc:\\Users\\renes\\.conda\\envs\\requirements\\Lib\\site-packages\\rasterio\\__init__.py:356\u001b[0m, in \u001b[0;36mopen\u001b[1;34m(fp, mode, driver, width, height, count, crs, transform, dtype, nodata, sharing, opener, **kwargs)\u001b[0m\n\u001b[0;32m    353\u001b[0m     path \u001b[38;5;241m=\u001b[39m _parse_path(raw_dataset_path)\n\u001b[0;32m    355\u001b[0m \u001b[38;5;28;01mif\u001b[39;00m mode \u001b[38;5;241m==\u001b[39m \u001b[38;5;124m\"\u001b[39m\u001b[38;5;124mr\u001b[39m\u001b[38;5;124m\"\u001b[39m:\n\u001b[1;32m--> 356\u001b[0m     dataset \u001b[38;5;241m=\u001b[39m \u001b[43mDatasetReader\u001b[49m\u001b[43m(\u001b[49m\u001b[43mpath\u001b[49m\u001b[43m,\u001b[49m\u001b[43m \u001b[49m\u001b[43mdriver\u001b[49m\u001b[38;5;241;43m=\u001b[39;49m\u001b[43mdriver\u001b[49m\u001b[43m,\u001b[49m\u001b[43m \u001b[49m\u001b[43msharing\u001b[49m\u001b[38;5;241;43m=\u001b[39;49m\u001b[43msharing\u001b[49m\u001b[43m,\u001b[49m\u001b[43m \u001b[49m\u001b[38;5;241;43m*\u001b[39;49m\u001b[38;5;241;43m*\u001b[39;49m\u001b[43mkwargs\u001b[49m\u001b[43m)\u001b[49m\n\u001b[0;32m    357\u001b[0m \u001b[38;5;28;01melif\u001b[39;00m mode \u001b[38;5;241m==\u001b[39m \u001b[38;5;124m\"\u001b[39m\u001b[38;5;124mr+\u001b[39m\u001b[38;5;124m\"\u001b[39m:\n\u001b[0;32m    358\u001b[0m     dataset \u001b[38;5;241m=\u001b[39m get_writer_for_path(path, driver\u001b[38;5;241m=\u001b[39mdriver)(\n\u001b[0;32m    359\u001b[0m         path, mode, driver\u001b[38;5;241m=\u001b[39mdriver, sharing\u001b[38;5;241m=\u001b[39msharing, \u001b[38;5;241m*\u001b[39m\u001b[38;5;241m*\u001b[39mkwargs\n\u001b[0;32m    360\u001b[0m     )\n",
      "File \u001b[1;32mrasterio\\\\_base.pyx:312\u001b[0m, in \u001b[0;36mrasterio._base.DatasetBase.__init__\u001b[1;34m()\u001b[0m\n",
      "\u001b[1;31mRasterioIOError\u001b[0m: '/data/T42SUG_20240727T061631_B04_10m.jp2' does not exist in the file system, and is not recognized as a supported dataset name."
     ]
    }
   ],
   "source": [
    "with rio.Env():\n",
    "    with rio.open(r\"/data/T42SUG_20240727T061631_B04_10m.jp2\") as red:\n",
    "        print(red)"
   ]
  },
  {
   "cell_type": "code",
   "execution_count": null,
   "id": "97b3786f",
   "metadata": {},
   "outputs": [],
   "source": []
  },
  {
   "cell_type": "code",
   "execution_count": null,
   "id": "6497afb3",
   "metadata": {},
   "outputs": [],
   "source": []
  },
  {
   "cell_type": "code",
   "execution_count": null,
   "id": "49b60ca0",
   "metadata": {},
   "outputs": [],
   "source": []
  }
 ],
 "metadata": {
  "kernelspec": {
   "display_name": "Python 3",
   "language": "python",
   "name": "python3"
  },
  "language_info": {
   "codemirror_mode": {
    "name": "ipython",
    "version": 3
   },
   "file_extension": ".py",
   "mimetype": "text/x-python",
   "name": "python",
   "nbconvert_exporter": "python",
   "pygments_lexer": "ipython3",
   "version": "3.13.2"
  }
 },
 "nbformat": 4,
 "nbformat_minor": 5
}
